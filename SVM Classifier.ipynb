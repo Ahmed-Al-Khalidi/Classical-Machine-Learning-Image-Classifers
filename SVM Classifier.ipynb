{
 "cells": [
  {
   "cell_type": "markdown",
   "id": "5313be8f-8360-490a-84b3-e3fc76238343",
   "metadata": {},
   "source": [
    "# SVM Classifier"
   ]
  },
  {
   "cell_type": "code",
   "execution_count": 22,
   "id": "624fb861-bec0-4804-9146-17240a9189b7",
   "metadata": {},
   "outputs": [],
   "source": [
    "import numpy as np\n",
    "from sklearn.model_selection import train_test_split\n",
    "from sklearn.metrics import accuracy_score, precision_score, recall_score, f1_score, confusion_matrix\n",
    "from sklearn.pipeline import make_pipeline\n",
    "import tensorflow as tf\n",
    "from tensorflow.keras import layers, models"
   ]
  },
  {
   "cell_type": "code",
   "execution_count": 23,
   "id": "163dffdc-d27b-4f2a-bc4f-4cdbd7e802a2",
   "metadata": {},
   "outputs": [],
   "source": [
    "from Image_Processing_Functions import *"
   ]
  },
  {
   "cell_type": "code",
   "execution_count": 24,
   "id": "b26ca2bd-516b-458c-ac1e-73b192a4de29",
   "metadata": {},
   "outputs": [],
   "source": [
    "from PIL import Image\n",
    "import matplotlib.pyplot as plt"
   ]
  },
  {
   "cell_type": "code",
   "execution_count": 25,
   "id": "19f25d63-7c7a-4e97-b571-405a4fd31214",
   "metadata": {},
   "outputs": [],
   "source": [
    "import seaborn as sns"
   ]
  },
  {
   "cell_type": "code",
   "execution_count": 26,
   "id": "507dd0e2-494c-46d5-9e83-d7b14fa4f7ea",
   "metadata": {},
   "outputs": [
    {
     "name": "stdout",
     "output_type": "stream",
     "text": [
      "Error processing dataset/0/.ipynb_checkpoints: [Errno 13] Permission denied: 'dataset/0/.ipynb_checkpoints'\n",
      "Error processing dataset/1/.ipynb_checkpoints: [Errno 13] Permission denied: 'dataset/1/.ipynb_checkpoints'\n"
     ]
    }
   ],
   "source": [
    "# Load dataset\n",
    "dataset_dir = 'dataset'\n",
    "images1,labels= image_pipeline_with_resize(dataset_dir,128,64)\n",
    "images2=RGB_to_grayscale(images1)\n",
    "images=Image_scalling(images2)"
   ]
  },
  {
   "cell_type": "code",
   "execution_count": 27,
   "id": "7c21b809-396d-46e9-b83c-76fcbbf111cd",
   "metadata": {},
   "outputs": [
    {
     "name": "stdout",
     "output_type": "stream",
     "text": [
      "600\n"
     ]
    }
   ],
   "source": [
    "print(len(labels))"
   ]
  },
  {
   "cell_type": "code",
   "execution_count": 28,
   "id": "27fab433-04ae-4e28-9538-99801ef7258a",
   "metadata": {},
   "outputs": [],
   "source": [
    "# Split dataset into training and testing sets\n",
    "X_train, X_test, y_train, y_test = train_test_split(images, labels, test_size=0.2, random_state=42)\n",
    "\n"
   ]
  },
  {
   "cell_type": "code",
   "execution_count": 29,
   "id": "5b7ea3be-64b2-4de5-b845-c1727d3e3737",
   "metadata": {},
   "outputs": [],
   "source": [
    "# Feature extraction using HOG\n",
    "X_train_features = HOG_extract_features(X_train)\n",
    "X_test_features = HOG_extract_features(X_test)\n",
    "\n"
   ]
  },
  {
   "cell_type": "markdown",
   "id": "7ed1ea60-3e54-47db-a899-ca0330d6d050",
   "metadata": {},
   "source": [
    "# SVM Classifier"
   ]
  },
  {
   "cell_type": "code",
   "execution_count": 30,
   "id": "242c1b4d-8fd8-4ada-954f-7ffa13b496d2",
   "metadata": {},
   "outputs": [],
   "source": [
    "from sklearn.svm import SVC\n",
    "from sklearn.preprocessing import StandardScaler\n",
    "from sklearn.pipeline import make_pipeline\n",
    "\n",
    "# Train SVM classifier with the specified kernel\n",
    "clf = make_pipeline(StandardScaler(), SVC(kernel='linear'))  # You can change the kernel as needed (e.g., 'rbf')\n",
    "history1 = clf.fit(X_train_features, y_train)\n",
    "\n",
    "# Predict labels for test set\n",
    "y_pred = clf.predict(X_test_features)\n"
   ]
  },
  {
   "cell_type": "code",
   "execution_count": 31,
   "id": "02eafa6b-99ab-4fdb-ad92-99d358c8bcee",
   "metadata": {},
   "outputs": [
    {
     "name": "stdout",
     "output_type": "stream",
     "text": [
      "0.9666666666666667\n"
     ]
    }
   ],
   "source": [
    "# Calculate evaluation metrics\n",
    "accuracy = accuracy_score(y_test, y_pred)\n",
    "print(accuracy)"
   ]
  },
  {
   "cell_type": "code",
   "execution_count": 32,
   "id": "ded51f10-c4d3-4dea-ad35-b9290998c2f7",
   "metadata": {},
   "outputs": [
    {
     "name": "stdout",
     "output_type": "stream",
     "text": [
      "0.9354838709677419\n"
     ]
    }
   ],
   "source": [
    "precision = precision_score(y_test, y_pred, pos_label='1')\n",
    "print(precision)"
   ]
  },
  {
   "cell_type": "code",
   "execution_count": 33,
   "id": "e7041398-738c-4b48-b770-bbf8a4963bcc",
   "metadata": {},
   "outputs": [
    {
     "name": "stdout",
     "output_type": "stream",
     "text": [
      "0.9354838709677419\n"
     ]
    }
   ],
   "source": [
    "recall = recall_score(y_test, y_pred, pos_label='0')\n",
    "print(recall)"
   ]
  },
  {
   "cell_type": "code",
   "execution_count": 34,
   "id": "32b88b63-92b0-4d5b-8cef-2a87485d2d95",
   "metadata": {},
   "outputs": [
    {
     "name": "stdout",
     "output_type": "stream",
     "text": [
      "0.9666666666666667\n"
     ]
    }
   ],
   "source": [
    "f1 = f1_score(y_test, y_pred, pos_label='0')\n",
    "print(f1)"
   ]
  },
  {
   "cell_type": "code",
   "execution_count": 35,
   "id": "0f071dc2-359d-4132-aa7c-ce384b1df788",
   "metadata": {},
   "outputs": [
    {
     "name": "stdout",
     "output_type": "stream",
     "text": [
      "[[58  4]\n",
      " [ 0 58]]\n"
     ]
    }
   ],
   "source": [
    "conf_matrix = confusion_matrix(y_test, y_pred)\n",
    "print(conf_matrix)"
   ]
  },
  {
   "cell_type": "code",
   "execution_count": 36,
   "id": "3c619052-216c-419c-9551-d2588c67eedf",
   "metadata": {},
   "outputs": [
    {
     "data": {
      "image/png": "[encoded data removed]",
      "text/plain": [
       "<Figure size 600x600 with 1 Axes>"
      ]
     },
     "metadata": {},
     "output_type": "display_data"
    }
   ],
   "source": [
    "# Plot confusion matrix\n",
    "sns.set(font_scale=1.2)\n",
    "plt.figure(figsize=(6, 6))\n",
    "sns.heatmap(conf_matrix, annot=True, fmt=\"d\", cmap=\"Blues\", cbar=False, square=True,\n",
    "            xticklabels=[\"Negative\", \"Positive\"], yticklabels=[\"Negative\", \"Positive\"])\n",
    "plt.xlabel(\"Predicted\")\n",
    "plt.ylabel(\"Actual\")\n",
    "plt.title(\"Confusion Matrix\")\n",
    "plt.show()"
   ]
  },
  {
   "cell_type": "code",
   "execution_count": null,
   "id": "e0a6c6c3-2035-4eb1-b929-2ee063fcabfb",
   "metadata": {},
   "outputs": [],
   "source": []
  }
 ],
 "metadata": {
  "kernelspec": {
   "display_name": "tensorflow_env",
   "language": "python",
   "name": "tensorflow_env"
  },
  "language_info": {
   "codemirror_mode": {
    "name": "ipython",
    "version": 3
   },
   "file_extension": ".py",
   "mimetype": "text/x-python",
   "name": "python",
   "nbconvert_exporter": "python",
   "pygments_lexer": "ipython3",
   "version": "3.10.13"
  }
 },
 "nbformat": 4,
 "nbformat_minor": 5
}
